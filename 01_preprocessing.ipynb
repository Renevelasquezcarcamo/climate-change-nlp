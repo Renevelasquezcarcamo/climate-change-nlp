{
 "cells": [
  {
   "cell_type": "code",
   "execution_count": 18,
   "metadata": {
    "collapsed": true,
    "pycharm": {
     "name": "#%%\n"
    }
   },
   "outputs": [],
   "source": [
    "import pandas as pd\n",
    "from pysentimiento import create_analyzer\n",
    "import spacy\n",
    "analyzer = create_analyzer(task=\"sentiment\", lang=\"en\")\n",
    "emotion_analyzer = create_analyzer(task=\"emotion\", lang=\"en\")\n",
    "irony_analyzer = create_analyzer(task=\"irony\", lang=\"en\")"
   ]
  },
  {
   "cell_type": "code",
   "execution_count": 19,
   "outputs": [],
   "source": [
    "df =  pd.read_csv('Climate change_2022-1-17_2022-7-19.csv')"
   ],
   "metadata": {
    "collapsed": false,
    "pycharm": {
     "name": "#%%\n"
    }
   }
  },
  {
   "cell_type": "code",
   "execution_count": 20,
   "outputs": [
    {
     "data": {
      "text/plain": "             UserScreenName        UserName                 Timestamp  \\\ncount                  9037            9050                      9050   \nunique                 6978            7036                      9000   \ntop     Inside Climate News  @insideclimate  2022-05-06T23:20:05.000Z   \nfreq                     36              36                         3   \n\n                                      Text  \\\ncount                                 9050   \nunique                                8873   \ntop     Jordan\\n@JordanSprings8\\n·\\nJun 18   \nfreq                                     3   \n\n                                            Embedded_text Emojis Comments  \\\ncount                                                9050   2026     6278   \nunique                                               9046   1149      280   \ntop     Radiative forcing of #climatechange from the C...      👇        1   \nfreq                                                    2     47     1862   \n\n       Likes Retweets Image link  \\\ncount   8431     8877       9050   \nunique   504      922       4946   \ntop        2        9         []   \nfreq     789      302       3854   \n\n                                                Tweet URL  \ncount                                                9050  \nunique                                               9038  \ntop     https://twitter.com/sunriseon7/status/15295879...  \nfreq                                                    2  ",
      "text/html": "<div>\n<style scoped>\n    .dataframe tbody tr th:only-of-type {\n        vertical-align: middle;\n    }\n\n    .dataframe tbody tr th {\n        vertical-align: top;\n    }\n\n    .dataframe thead th {\n        text-align: right;\n    }\n</style>\n<table border=\"1\" class=\"dataframe\">\n  <thead>\n    <tr style=\"text-align: right;\">\n      <th></th>\n      <th>UserScreenName</th>\n      <th>UserName</th>\n      <th>Timestamp</th>\n      <th>Text</th>\n      <th>Embedded_text</th>\n      <th>Emojis</th>\n      <th>Comments</th>\n      <th>Likes</th>\n      <th>Retweets</th>\n      <th>Image link</th>\n      <th>Tweet URL</th>\n    </tr>\n  </thead>\n  <tbody>\n    <tr>\n      <th>count</th>\n      <td>9037</td>\n      <td>9050</td>\n      <td>9050</td>\n      <td>9050</td>\n      <td>9050</td>\n      <td>2026</td>\n      <td>6278</td>\n      <td>8431</td>\n      <td>8877</td>\n      <td>9050</td>\n      <td>9050</td>\n    </tr>\n    <tr>\n      <th>unique</th>\n      <td>6978</td>\n      <td>7036</td>\n      <td>9000</td>\n      <td>8873</td>\n      <td>9046</td>\n      <td>1149</td>\n      <td>280</td>\n      <td>504</td>\n      <td>922</td>\n      <td>4946</td>\n      <td>9038</td>\n    </tr>\n    <tr>\n      <th>top</th>\n      <td>Inside Climate News</td>\n      <td>@insideclimate</td>\n      <td>2022-05-06T23:20:05.000Z</td>\n      <td>Jordan\\n@JordanSprings8\\n·\\nJun 18</td>\n      <td>Radiative forcing of #climatechange from the C...</td>\n      <td>👇</td>\n      <td>1</td>\n      <td>2</td>\n      <td>9</td>\n      <td>[]</td>\n      <td>https://twitter.com/sunriseon7/status/15295879...</td>\n    </tr>\n    <tr>\n      <th>freq</th>\n      <td>36</td>\n      <td>36</td>\n      <td>3</td>\n      <td>3</td>\n      <td>2</td>\n      <td>47</td>\n      <td>1862</td>\n      <td>789</td>\n      <td>302</td>\n      <td>3854</td>\n      <td>2</td>\n    </tr>\n  </tbody>\n</table>\n</div>"
     },
     "execution_count": 20,
     "metadata": {},
     "output_type": "execute_result"
    }
   ],
   "source": [
    "df.describe()"
   ],
   "metadata": {
    "collapsed": false,
    "pycharm": {
     "name": "#%%\n"
    }
   }
  },
  {
   "cell_type": "code",
   "execution_count": 21,
   "outputs": [
    {
     "data": {
      "text/plain": "                UserScreenName          UserName                 Timestamp  \\\n0               Lauren Boebert    @laurenboebert  2022-01-17T23:32:38.000Z   \n1                    Catherine    @catherine___c  2022-01-17T22:54:02.000Z   \n2                   king Keith      @KaConfessor  2022-01-17T23:51:41.000Z   \n3     PETRIFIED CLIMATE PARENT   @climate_parent  2022-01-17T21:42:04.000Z   \n4               Thomas Speight       @Thomas_Sp8  2022-01-17T21:10:40.000Z   \n...                        ...               ...                       ...   \n9045      Dr Srijana Mitra Das    @srijanapiya17  2022-07-18T12:08:28.000Z   \n9046       1%_Better_Every_Day         @jh336405  2022-07-18T00:33:20.000Z   \n9047           David Schechter   @DavidSchechter  2022-07-18T21:13:13.000Z   \n9048             Daily Climate  @TheDailyClimate  2022-07-18T10:15:09.000Z   \n9049          Robot Enthusiast     @robothusiast  2022-07-18T16:32:53.000Z   \n\n                                                   Text  \\\n0             Lauren Boebert\\n@laurenboebert\\n·\\nJan 18   \n1                  Catherine\\n@catherine___c\\n·\\nJan 17   \n2                   king Keith\\n@KaConfessor\\n·\\nJan 18   \n3     PETRIFIED CLIMATE PARENT\\n@climate_parent\\n·\\n...   \n4                Thomas Speight\\n@Thomas_Sp8\\n·\\nJan 17   \n...                                                 ...   \n9045    Dr Srijana Mitra Das\\n@srijanapiya17\\n·\\nJul 18   \n9046          1%_Better_Every_Day\\n@jh336405\\n·\\nJul 18   \n9047        David Schechter\\n@DavidSchechter\\n·\\nJul 18   \n9048         Daily Climate\\n@TheDailyClimate\\n·\\nJul 18   \n9049         Robot Enthusiast\\n@robothusiast\\n·\\nJul 18   \n\n                                          Embedded_text Emojis Comments  \\\n0     The only solution I’ve ever heard the Left pro...    NaN    1,683   \n1     Climate change doesn’t cause volcanic eruption...    NaN      158   \n2     Vaccinated tennis ball boy collapses in the te...    NaN       24   \n3     North America has experienced an average winte...    NaN       15   \n4     They're gonna do the same with Climate Change ...      🅾        4   \n...                                                 ...    ...      ...   \n9045  #ClimateChange is now the greatest story on Ea...    NaN        2   \n9046  Replying to \\n@jh336405\\n @acuna_r\\n and 41 ot...  💯 💯 🌏        4   \n9047  While Texans are being asked to use less elect...    NaN        3   \n9048  Sea levels are rising, and communities are scr...    NaN      NaN   \n9049  UTS creates algae-analysing robot to combat cl...    NaN      NaN   \n\n      Likes Retweets                                         Image link  \\\n0     2,259    11.7K                                                 []   \n1        64      762                                                 []   \n2       118      159  ['https://pbs.twimg.com/ext_tw_video_thumb/148...   \n3        50      158                                                 []   \n4        24      127  ['https://pbs.twimg.com/profile_images/1544171...   \n...     ...      ...                                                ...   \n9045     16       24  ['https://pbs.twimg.com/profile_images/5140754...   \n9046    NaN      NaN  ['https://pbs.twimg.com/profile_images/1442412...   \n9047     14       23  ['https://pbs.twimg.com/card_img/1549138950475...   \n9048      3      NaN  ['https://pbs.twimg.com/card_img/1547862999808...   \n9049    NaN      NaN  ['https://pbs.twimg.com/card_img/1549069752219...   \n\n                                              Tweet URL  \n0     https://twitter.com/laurenboebert/status/14832...  \n1     https://twitter.com/catherine___c/status/14832...  \n2     https://twitter.com/KaConfessor/status/1483225...  \n3     https://twitter.com/climate_parent/status/1483...  \n4     https://twitter.com/Thomas_Sp8/status/14831850...  \n...                                                 ...  \n9045  https://twitter.com/srijanapiya17/status/15490...  \n9046  https://twitter.com/jh336405/status/1548828230...  \n9047  https://twitter.com/DavidSchechter/status/1549...  \n9048  https://twitter.com/TheDailyClimate/status/154...  \n9049  https://twitter.com/robothusiast/status/154906...  \n\n[9050 rows x 11 columns]",
      "text/html": "<div>\n<style scoped>\n    .dataframe tbody tr th:only-of-type {\n        vertical-align: middle;\n    }\n\n    .dataframe tbody tr th {\n        vertical-align: top;\n    }\n\n    .dataframe thead th {\n        text-align: right;\n    }\n</style>\n<table border=\"1\" class=\"dataframe\">\n  <thead>\n    <tr style=\"text-align: right;\">\n      <th></th>\n      <th>UserScreenName</th>\n      <th>UserName</th>\n      <th>Timestamp</th>\n      <th>Text</th>\n      <th>Embedded_text</th>\n      <th>Emojis</th>\n      <th>Comments</th>\n      <th>Likes</th>\n      <th>Retweets</th>\n      <th>Image link</th>\n      <th>Tweet URL</th>\n    </tr>\n  </thead>\n  <tbody>\n    <tr>\n      <th>0</th>\n      <td>Lauren Boebert</td>\n      <td>@laurenboebert</td>\n      <td>2022-01-17T23:32:38.000Z</td>\n      <td>Lauren Boebert\\n@laurenboebert\\n·\\nJan 18</td>\n      <td>The only solution I’ve ever heard the Left pro...</td>\n      <td>NaN</td>\n      <td>1,683</td>\n      <td>2,259</td>\n      <td>11.7K</td>\n      <td>[]</td>\n      <td>https://twitter.com/laurenboebert/status/14832...</td>\n    </tr>\n    <tr>\n      <th>1</th>\n      <td>Catherine</td>\n      <td>@catherine___c</td>\n      <td>2022-01-17T22:54:02.000Z</td>\n      <td>Catherine\\n@catherine___c\\n·\\nJan 17</td>\n      <td>Climate change doesn’t cause volcanic eruption...</td>\n      <td>NaN</td>\n      <td>158</td>\n      <td>64</td>\n      <td>762</td>\n      <td>[]</td>\n      <td>https://twitter.com/catherine___c/status/14832...</td>\n    </tr>\n    <tr>\n      <th>2</th>\n      <td>king Keith</td>\n      <td>@KaConfessor</td>\n      <td>2022-01-17T23:51:41.000Z</td>\n      <td>king Keith\\n@KaConfessor\\n·\\nJan 18</td>\n      <td>Vaccinated tennis ball boy collapses in the te...</td>\n      <td>NaN</td>\n      <td>24</td>\n      <td>118</td>\n      <td>159</td>\n      <td>['https://pbs.twimg.com/ext_tw_video_thumb/148...</td>\n      <td>https://twitter.com/KaConfessor/status/1483225...</td>\n    </tr>\n    <tr>\n      <th>3</th>\n      <td>PETRIFIED CLIMATE PARENT</td>\n      <td>@climate_parent</td>\n      <td>2022-01-17T21:42:04.000Z</td>\n      <td>PETRIFIED CLIMATE PARENT\\n@climate_parent\\n·\\n...</td>\n      <td>North America has experienced an average winte...</td>\n      <td>NaN</td>\n      <td>15</td>\n      <td>50</td>\n      <td>158</td>\n      <td>[]</td>\n      <td>https://twitter.com/climate_parent/status/1483...</td>\n    </tr>\n    <tr>\n      <th>4</th>\n      <td>Thomas Speight</td>\n      <td>@Thomas_Sp8</td>\n      <td>2022-01-17T21:10:40.000Z</td>\n      <td>Thomas Speight\\n@Thomas_Sp8\\n·\\nJan 17</td>\n      <td>They're gonna do the same with Climate Change ...</td>\n      <td>🅾</td>\n      <td>4</td>\n      <td>24</td>\n      <td>127</td>\n      <td>['https://pbs.twimg.com/profile_images/1544171...</td>\n      <td>https://twitter.com/Thomas_Sp8/status/14831850...</td>\n    </tr>\n    <tr>\n      <th>...</th>\n      <td>...</td>\n      <td>...</td>\n      <td>...</td>\n      <td>...</td>\n      <td>...</td>\n      <td>...</td>\n      <td>...</td>\n      <td>...</td>\n      <td>...</td>\n      <td>...</td>\n      <td>...</td>\n    </tr>\n    <tr>\n      <th>9045</th>\n      <td>Dr Srijana Mitra Das</td>\n      <td>@srijanapiya17</td>\n      <td>2022-07-18T12:08:28.000Z</td>\n      <td>Dr Srijana Mitra Das\\n@srijanapiya17\\n·\\nJul 18</td>\n      <td>#ClimateChange is now the greatest story on Ea...</td>\n      <td>NaN</td>\n      <td>2</td>\n      <td>16</td>\n      <td>24</td>\n      <td>['https://pbs.twimg.com/profile_images/5140754...</td>\n      <td>https://twitter.com/srijanapiya17/status/15490...</td>\n    </tr>\n    <tr>\n      <th>9046</th>\n      <td>1%_Better_Every_Day</td>\n      <td>@jh336405</td>\n      <td>2022-07-18T00:33:20.000Z</td>\n      <td>1%_Better_Every_Day\\n@jh336405\\n·\\nJul 18</td>\n      <td>Replying to \\n@jh336405\\n @acuna_r\\n and 41 ot...</td>\n      <td>💯 💯 🌏</td>\n      <td>4</td>\n      <td>NaN</td>\n      <td>NaN</td>\n      <td>['https://pbs.twimg.com/profile_images/1442412...</td>\n      <td>https://twitter.com/jh336405/status/1548828230...</td>\n    </tr>\n    <tr>\n      <th>9047</th>\n      <td>David Schechter</td>\n      <td>@DavidSchechter</td>\n      <td>2022-07-18T21:13:13.000Z</td>\n      <td>David Schechter\\n@DavidSchechter\\n·\\nJul 18</td>\n      <td>While Texans are being asked to use less elect...</td>\n      <td>NaN</td>\n      <td>3</td>\n      <td>14</td>\n      <td>23</td>\n      <td>['https://pbs.twimg.com/card_img/1549138950475...</td>\n      <td>https://twitter.com/DavidSchechter/status/1549...</td>\n    </tr>\n    <tr>\n      <th>9048</th>\n      <td>Daily Climate</td>\n      <td>@TheDailyClimate</td>\n      <td>2022-07-18T10:15:09.000Z</td>\n      <td>Daily Climate\\n@TheDailyClimate\\n·\\nJul 18</td>\n      <td>Sea levels are rising, and communities are scr...</td>\n      <td>NaN</td>\n      <td>NaN</td>\n      <td>3</td>\n      <td>NaN</td>\n      <td>['https://pbs.twimg.com/card_img/1547862999808...</td>\n      <td>https://twitter.com/TheDailyClimate/status/154...</td>\n    </tr>\n    <tr>\n      <th>9049</th>\n      <td>Robot Enthusiast</td>\n      <td>@robothusiast</td>\n      <td>2022-07-18T16:32:53.000Z</td>\n      <td>Robot Enthusiast\\n@robothusiast\\n·\\nJul 18</td>\n      <td>UTS creates algae-analysing robot to combat cl...</td>\n      <td>NaN</td>\n      <td>NaN</td>\n      <td>NaN</td>\n      <td>NaN</td>\n      <td>['https://pbs.twimg.com/card_img/1549069752219...</td>\n      <td>https://twitter.com/robothusiast/status/154906...</td>\n    </tr>\n  </tbody>\n</table>\n<p>9050 rows × 11 columns</p>\n</div>"
     },
     "execution_count": 21,
     "metadata": {},
     "output_type": "execute_result"
    }
   ],
   "source": [
    "df"
   ],
   "metadata": {
    "collapsed": false,
    "pycharm": {
     "name": "#%%\n"
    }
   }
  },
  {
   "cell_type": "code",
   "execution_count": 22,
   "outputs": [
    {
     "name": "stdout",
     "output_type": "stream",
     "text": [
      "CPU times: user 2h 20min 3s, sys: 20min 51s, total: 2h 40min 54s\n",
      "Wall time: 53min 27s\n"
     ]
    }
   ],
   "source": [
    "%%time\n",
    "df['sentiment'] = df['Embedded_text'].apply(lambda x: analyzer.predict(x))"
   ],
   "metadata": {
    "collapsed": false,
    "pycharm": {
     "name": "#%%\n"
    }
   }
  },
  {
   "cell_type": "code",
   "execution_count": 23,
   "outputs": [
    {
     "name": "stdout",
     "output_type": "stream",
     "text": [
      "CPU times: user 2h 17min 9s, sys: 20min 16s, total: 2h 37min 26s\n",
      "Wall time: 33min 40s\n"
     ]
    }
   ],
   "source": [
    "%%time\n",
    "df['em}otion'] = df['Embedded_text'].apply(lambda x: emotion_analyzer.predict(x))"
   ],
   "metadata": {
    "collapsed": false,
    "pycharm": {
     "name": "#%%\n"
    }
   }
  },
  {
   "cell_type": "code",
   "execution_count": 27,
   "outputs": [
    {
     "name": "stdout",
     "output_type": "stream",
     "text": [
      "CPU times: user 2h 9min 38s, sys: 19min 47s, total: 2h 29min 25s\n",
      "Wall time: 32min 45s\n"
     ]
    }
   ],
   "source": [
    "%%time\n",
    "df['irony'] = df['Embedded_text'].apply(lambda x: irony_analyzer.predict(x))"
   ],
   "metadata": {
    "collapsed": false,
    "pycharm": {
     "name": "#%%\n"
    }
   }
  },
  {
   "cell_type": "code",
   "execution_count": 28,
   "outputs": [],
   "source": [
    "df.to_csv('results2.csv')"
   ],
   "metadata": {
    "collapsed": false,
    "pycharm": {
     "name": "#%%\n"
    }
   }
  }
 ],
 "metadata": {
  "kernelspec": {
   "display_name": "Python 3",
   "language": "python",
   "name": "python3"
  },
  "language_info": {
   "codemirror_mode": {
    "name": "ipython",
    "version": 2
   },
   "file_extension": ".py",
   "mimetype": "text/x-python",
   "name": "python",
   "nbconvert_exporter": "python",
   "pygments_lexer": "ipython2",
   "version": "2.7.6"
  }
 },
 "nbformat": 4,
 "nbformat_minor": 0
}