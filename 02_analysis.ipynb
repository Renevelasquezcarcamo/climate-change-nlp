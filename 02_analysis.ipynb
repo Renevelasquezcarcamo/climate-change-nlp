{
 "cells": [
  {
   "cell_type": "code",
   "execution_count": null,
   "metadata": {
    "collapsed": true,
    "pycharm": {
     "name": "#%%\n",
     "is_executing": true
    }
   },
   "outputs": [],
   "source": [
    "import pandas as pd\n",
    "import seaborn as sns\n",
    "import matplotlib.pyplot as plt"
   ]
  },
  {
   "cell_type": "code",
   "execution_count": null,
   "outputs": [],
   "source": [
    "df = pd.read_csv('results.csv')"
   ],
   "metadata": {
    "collapsed": false,
    "pycharm": {
     "name": "#%%\n",
     "is_executing": true
    }
   }
  },
  {
   "cell_type": "code",
   "execution_count": null,
   "outputs": [],
   "source": [
    "# convert the Timestamp column to datetime format\n",
    "df['Timestamp'] = pd.to_datetime(df['Timestamp'])"
   ],
   "metadata": {
    "collapsed": false,
    "pycharm": {
     "name": "#%%\n",
     "is_executing": true
    }
   }
  },
  {
   "cell_type": "code",
   "execution_count": null,
   "outputs": [],
   "source": [
    "# Group by day\n",
    "grouped_df = df.groupby(pd.Grouper(key='Timestamp', freq='D'))\n",
    "\n",
    "# Count the number of each sentiment per day\n",
    "count_df = grouped_df['sentiment_result'].value_counts().rename('count').reset_index()\n",
    "\n",
    "# Plot the data\n",
    "sns.lineplot(x='Timestamp', y='count', hue='sentiment_result', data=count_df)\n",
    "plt.xlabel('Day')\n",
    "plt.ylabel('Count')\n",
    "plt.show()"
   ],
   "metadata": {
    "collapsed": false,
    "pycharm": {
     "name": "#%%\n",
     "is_executing": true
    }
   }
  },
  {
   "cell_type": "code",
   "execution_count": null,
   "outputs": [],
   "source": [
    "# Group by day\n",
    "grouped_df = df.groupby(pd.Grouper(key='Timestamp', freq='D'))\n",
    "\n",
    "# Count the number of each sentiment per day\n",
    "count_df = grouped_df['emotion_result'].value_counts().rename('count').reset_index()\n",
    "\n",
    "# Plot the data\n",
    "sns.lineplot(x='Timestamp', y='count', hue='emotion_result', data=count_df)\n",
    "plt.xlabel('Day')\n",
    "plt.ylabel('Count')\n",
    "plt.show()"
   ],
   "metadata": {
    "collapsed": false,
    "pycharm": {
     "name": "#%%\n",
     "is_executing": true
    }
   }
  },
  {
   "cell_type": "code",
   "execution_count": null,
   "outputs": [],
   "source": [
    "# Group by day\n",
    "grouped_df = df.groupby(pd.Grouper(key='Timestamp', freq='D'))\n",
    "\n",
    "# Count the number of each sentiment per day\n",
    "count_df = grouped_df['irony_result'].value_counts().rename('count').reset_index()\n",
    "\n",
    "# Plot the data\n",
    "sns.lineplot(x='Timestamp', y='count', hue='irony_result', data=count_df)\n",
    "plt.xlabel('Day')\n",
    "plt.ylabel('Count')\n",
    "plt.show()"
   ],
   "metadata": {
    "collapsed": false,
    "pycharm": {
     "name": "#%%\n",
     "is_executing": true
    }
   }
  },
  {
   "cell_type": "code",
   "execution_count": null,
   "outputs": [],
   "source": [],
   "metadata": {
    "collapsed": false,
    "pycharm": {
     "name": "#%%\n",
     "is_executing": true
    }
   }
  }
 ],
 "metadata": {
  "kernelspec": {
   "display_name": "Python 3",
   "language": "python",
   "name": "python3"
  },
  "language_info": {
   "codemirror_mode": {
    "name": "ipython",
    "version": 2
   },
   "file_extension": ".py",
   "mimetype": "text/x-python",
   "name": "python",
   "nbconvert_exporter": "python",
   "pygments_lexer": "ipython2",
   "version": "2.7.6"
  }
 },
 "nbformat": 4,
 "nbformat_minor": 0
}